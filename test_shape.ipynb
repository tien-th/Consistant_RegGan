{
 "cells": [
  {
   "cell_type": "code",
   "execution_count": 1,
   "metadata": {},
   "outputs": [
    {
     "name": "stdout",
     "output_type": "stream",
     "text": [
      "1.2.840.113619.2.290.3.663120.224.1715908786.145\n"
     ]
    }
   ],
   "source": [
    "# Duyệt qua từng thư mục bệnh nhân trong DATA_PATH\n",
    "import numpy as np \n",
    "import os \n",
    "\n",
    "DATA_PATH = '/workdir/radish/PET-CT/data_gen/3D_LABELED_CT_PET_V2'\n",
    "\n",
    "for patient_folder in os.listdir(DATA_PATH):\n",
    "    patient_path = os.path.join(DATA_PATH, patient_folder)\n",
    "    \n",
    "    # Kiểm tra xem có phải là thư mục không\n",
    "    if os.path.isdir(patient_path):\n",
    "        # Tìm file ct.npy bên trong thư mục bệnh nhân\n",
    "        ct_file_path = os.path.join(patient_path, 'ct.npy')\n",
    "        \n",
    "        # Kiểm tra tệp có tồn tại hay không\n",
    "        if os.path.exists(ct_file_path):\n",
    "            ct_img = np.load(ct_file_path, allow_pickle=True)\n",
    "            \n",
    "            # Chuẩn hóa và tiền xử lý dữ liệu ảnh\n",
    "            ct_img = ct_img / float(2047)\n",
    "    print(patient_folder)\n",
    "    break"
   ]
  },
  {
   "cell_type": "code",
   "execution_count": 3,
   "metadata": {},
   "outputs": [
    {
     "data": {
      "text/plain": [
       "(512, 512)"
      ]
     },
     "execution_count": 3,
     "metadata": {},
     "output_type": "execute_result"
    }
   ],
   "source": [
    "ct_img[0].shape"
   ]
  },
  {
   "cell_type": "code",
   "execution_count": 3,
   "metadata": {},
   "outputs": [
    {
     "name": "stdout",
     "output_type": "stream",
     "text": [
      "Number of patients: 200\n"
     ]
    }
   ],
   "source": [
    "txt_list_patients = '3D_reggan/train.txt'\n",
    "    # read files \n",
    "with open(txt_list_patients) as f:\n",
    "    lines = f.readlines()\n",
    "    patient_list = [x.strip() for x in lines]\n",
    "\n",
    "print('Number of patients:', len(patient_list))"
   ]
  },
  {
   "cell_type": "code",
   "execution_count": 1,
   "metadata": {},
   "outputs": [
    {
     "name": "stdout",
     "output_type": "stream",
     "text": [
      "/workdir/radish/PET-CT/data_gen/3D_LABELED_CT_PET_V2/1.2.840.113619.2.290.3.663120.224.1715908786.145\n",
      "/workdir/radish/PET-CT/data_gen/3D_LABELED_CT_PET_V2/1.2.840.113619.2.290.3.663120.491.1712711663.435\n",
      "/workdir/radish/PET-CT/data_gen/3D_LABELED_CT_PET_V2/1.2.840.113619.2.290.3.663120.491.1712711666.254\n",
      "/workdir/radish/PET-CT/data_gen/3D_LABELED_CT_PET_V2/1.2.840.113619.2.290.3.663120.491.1712711666.820\n",
      "/workdir/radish/PET-CT/data_gen/3D_LABELED_CT_PET_V2/1.2.840.113619.2.290.3.663120.491.1712711667.182\n",
      "/workdir/radish/PET-CT/data_gen/3D_LABELED_CT_PET_V2/1.2.840.113619.2.290.3.663120.491.1712711668.702\n",
      "/workdir/radish/PET-CT/data_gen/3D_LABELED_CT_PET_V2/1.2.840.113619.2.290.3.663120.493.1713068064.781\n",
      "/workdir/radish/PET-CT/data_gen/3D_LABELED_CT_PET_V2/1.2.840.113619.2.290.3.663120.525.1713488244.351\n",
      "/workdir/radish/PET-CT/data_gen/3D_LABELED_CT_PET_V2/1.2.840.113619.2.290.3.663120.525.1713488247.611\n",
      "/workdir/radish/PET-CT/data_gen/3D_LABELED_CT_PET_V2/1.2.840.113619.2.290.3.663120.525.1713488249.389\n",
      "/workdir/radish/PET-CT/data_gen/3D_LABELED_CT_PET_V2/1.2.840.113619.2.290.3.663120.525.1713488250.314\n",
      "/workdir/radish/PET-CT/data_gen/3D_LABELED_CT_PET_V2/1.2.840.113619.2.290.3.663120.525.1713488253.59\n",
      "/workdir/radish/PET-CT/data_gen/3D_LABELED_CT_PET_V2/1.2.840.113619.2.290.3.663120.580.1712206755.879\n",
      "/workdir/radish/PET-CT/data_gen/3D_LABELED_CT_PET_V2/1.2.840.113619.2.290.3.663120.616.1711416193.822\n",
      "/workdir/radish/PET-CT/data_gen/3D_LABELED_CT_PET_V2/1.2.840.113619.2.290.3.663120.616.1711416195.793\n",
      "/workdir/radish/PET-CT/data_gen/3D_LABELED_CT_PET_V2/1.2.840.113619.2.290.3.663120.616.1711416205.510\n",
      "/workdir/radish/PET-CT/data_gen/3D_LABELED_CT_PET_V2/1.2.840.113619.2.290.3.663120.616.1711416210.92\n",
      "/workdir/radish/PET-CT/data_gen/3D_LABELED_CT_PET_V2/1.2.840.113619.2.290.3.663120.973.1715654772.392\n",
      "/workdir/radish/PET-CT/data_gen/3D_LABELED_CT_PET_V2/1.2.840.113619.2.55.3.663376.499.1712022155.563\n",
      "/workdir/radish/PET-CT/data_gen/3D_LABELED_CT_PET_V2/1.2.840.113619.2.55.3.663376.654.1710818813.717\n",
      "/workdir/radish/PET-CT/data_gen/3D_LABELED_CT_PET_V2/1.2.840.113619.2.55.3.663376.78.1704246075.182\n",
      "/workdir/radish/PET-CT/data_gen/3D_LABELED_CT_PET_V2/1.2.840.113619.2.55.3.663376.78.1704246075.628\n",
      "/workdir/radish/PET-CT/data_gen/3D_LABELED_CT_PET_V2/1.2.840.113619.2.55.3.663376.78.1704246076.216\n",
      "/workdir/radish/PET-CT/data_gen/3D_LABELED_CT_PET_V2/1.2.840.113619.2.55.3.663376.78.1704246084.428\n",
      "/workdir/radish/PET-CT/data_gen/3D_LABELED_CT_PET_V2/1.2.840.113619.2.55.3.663376.78.1704246088.539\n",
      "/workdir/radish/PET-CT/data_gen/3D_LABELED_CT_PET_V2/1.2.840.113619.2.55.3.663376.78.1704246090.788\n",
      "/workdir/radish/PET-CT/data_gen/3D_LABELED_CT_PET_V2/1.2.840.113619.2.55.3.663376.78.1704246091.402\n",
      "/workdir/radish/PET-CT/data_gen/3D_LABELED_CT_PET_V2/1.2.840.113619.2.55.3.663376.78.1704246094.803\n",
      "/workdir/radish/PET-CT/data_gen/3D_LABELED_CT_PET_V2/1.2.840.113619.2.55.3.663376.78.1704246104.359\n",
      "/workdir/radish/PET-CT/data_gen/3D_LABELED_CT_PET_V2/1.2.840.113619.2.55.3.663376.78.1704246107.800\n",
      "/workdir/radish/PET-CT/data_gen/3D_LABELED_CT_PET_V2/1.2.840.113619.2.55.3.663376.78.1704246111.969\n",
      "/workdir/radish/PET-CT/data_gen/3D_LABELED_CT_PET_V2/1.2.840.113619.2.55.3.663376.78.1704246114.421\n",
      "/workdir/radish/PET-CT/data_gen/3D_LABELED_CT_PET_V2/1.2.840.113619.2.55.3.663376.964.1714721569.483\n",
      "/workdir/radish/PET-CT/data_gen/3D_LABELED_CT_PET_V2/1.2.840.113619.2.55.3.663376.964.1714721569.765\n",
      "/workdir/radish/PET-CT/data_gen/3D_LABELED_CT_PET_V2/1.2.840.113619.2.55.3.663376.964.1714721570.885\n",
      "/workdir/radish/PET-CT/data_gen/3D_LABELED_CT_PET_V2/1.2.840.113619.2.55.3.663376.964.1714721572.281\n",
      "/workdir/radish/PET-CT/data_gen/3D_LABELED_CT_PET_V2/1.2.840.113619.2.290.3.663120.525.1713488241.997\n",
      "/workdir/radish/PET-CT/data_gen/3D_LABELED_CT_PET_V2/1.2.840.113619.2.290.3.663120.525.1713488242.620\n",
      "/workdir/radish/PET-CT/data_gen/3D_LABELED_CT_PET_V2/1.2.840.113619.2.290.3.663120.525.1713488243.159\n",
      "/workdir/radish/PET-CT/data_gen/3D_LABELED_CT_PET_V2/1.2.840.113619.2.290.3.663120.525.1713488243.483\n",
      "/workdir/radish/PET-CT/data_gen/3D_LABELED_CT_PET_V2/1.2.840.113619.2.290.3.663120.525.1713488244.65\n",
      "/workdir/radish/PET-CT/data_gen/3D_LABELED_CT_PET_V2/1.2.840.113619.2.290.3.663120.525.1713488244.949\n",
      "/workdir/radish/PET-CT/data_gen/3D_LABELED_CT_PET_V2/1.2.840.113619.2.290.3.663120.525.1713488245.235\n",
      "/workdir/radish/PET-CT/data_gen/3D_LABELED_CT_PET_V2/1.2.840.113619.2.290.3.663120.525.1713488245.545\n",
      "/workdir/radish/PET-CT/data_gen/3D_LABELED_CT_PET_V2/1.2.840.113619.2.290.3.663120.525.1713488245.855\n",
      "/workdir/radish/PET-CT/data_gen/3D_LABELED_CT_PET_V2/1.2.840.113619.2.290.3.663120.525.1713488246.165\n",
      "/workdir/radish/PET-CT/data_gen/3D_LABELED_CT_PET_V2/1.2.840.113619.2.290.3.663120.525.1713488246.577\n",
      "/workdir/radish/PET-CT/data_gen/3D_LABELED_CT_PET_V2/1.2.840.113619.2.290.3.663120.525.1713488246.989\n",
      "/workdir/radish/PET-CT/data_gen/3D_LABELED_CT_PET_V2/1.2.840.113619.2.290.3.663120.525.1713488247.287\n",
      "/workdir/radish/PET-CT/data_gen/3D_LABELED_CT_PET_V2/1.2.840.113619.2.290.3.663120.525.1713488247.897\n",
      "/workdir/radish/PET-CT/data_gen/3D_LABELED_CT_PET_V2/1.2.840.113619.2.290.3.663120.525.1713488248.171\n",
      "/workdir/radish/PET-CT/data_gen/3D_LABELED_CT_PET_V2/1.2.840.113619.2.290.3.663120.525.1713488248.469\n",
      "/workdir/radish/PET-CT/data_gen/3D_LABELED_CT_PET_V2/1.2.840.113619.2.290.3.663120.525.1713488248.755\n",
      "/workdir/radish/PET-CT/data_gen/3D_LABELED_CT_PET_V2/1.2.840.113619.2.290.3.663120.525.1713488249.79\n",
      "/workdir/radish/PET-CT/data_gen/3D_LABELED_CT_PET_V2/1.2.840.113619.2.290.3.663120.525.1713488250.28\n",
      "/workdir/radish/PET-CT/data_gen/3D_LABELED_CT_PET_V2/1.2.840.113619.2.290.3.663120.525.1713488250.631\n",
      "/workdir/radish/PET-CT/data_gen/3D_LABELED_CT_PET_V2/1.2.840.113619.2.290.3.663120.525.1713488250.929\n",
      "/workdir/radish/PET-CT/data_gen/3D_LABELED_CT_PET_V2/1.2.840.113619.2.290.3.663120.525.1713488251.253\n",
      "/workdir/radish/PET-CT/data_gen/3D_LABELED_CT_PET_V2/1.2.840.113619.2.290.3.663120.525.1713488251.539\n",
      "/workdir/radish/PET-CT/data_gen/3D_LABELED_CT_PET_V2/1.2.840.113619.2.290.3.663120.525.1713488251.797\n",
      "/workdir/radish/PET-CT/data_gen/3D_LABELED_CT_PET_V2/1.2.840.113619.2.290.3.663120.525.1713488252.411\n",
      "/workdir/radish/PET-CT/data_gen/3D_LABELED_CT_PET_V2/1.2.840.113619.2.290.3.663120.525.1713488252.71\n",
      "/workdir/radish/PET-CT/data_gen/3D_LABELED_CT_PET_V2/1.2.840.113619.2.290.3.663120.525.1713488253.383\n",
      "/workdir/radish/PET-CT/data_gen/3D_LABELED_CT_PET_V2/1.2.840.113619.2.290.3.663120.525.1713488253.693\n",
      "/workdir/radish/PET-CT/data_gen/3D_LABELED_CT_PET_V2/1.2.840.113619.2.290.3.663120.525.1713488254.217\n",
      "/workdir/radish/PET-CT/data_gen/3D_LABELED_CT_PET_V2/1.2.840.113619.2.290.3.663120.525.1713488254.503\n",
      "/workdir/radish/PET-CT/data_gen/3D_LABELED_CT_PET_V2/1.2.840.113619.2.290.3.663120.525.1713488255.345\n",
      "/workdir/radish/PET-CT/data_gen/3D_LABELED_CT_PET_V2/1.2.840.113619.2.290.3.663120.525.1713488255.693\n",
      "/workdir/radish/PET-CT/data_gen/3D_LABELED_CT_PET_V2/1.2.840.113619.2.290.3.663120.525.1713488255.71\n",
      "/workdir/radish/PET-CT/data_gen/3D_LABELED_CT_PET_V2/1.2.840.113619.2.290.3.663120.525.1713488256.261\n",
      "/workdir/radish/PET-CT/data_gen/3D_LABELED_CT_PET_V2/1.2.840.113619.2.290.3.663120.525.1713488256.571\n",
      "/workdir/radish/PET-CT/data_gen/3D_LABELED_CT_PET_V2/1.2.840.113619.2.290.3.663120.525.1713488256.881\n",
      "/workdir/radish/PET-CT/data_gen/3D_LABELED_CT_PET_V2/1.2.840.113619.2.290.3.663120.525.1713488257.191\n",
      "/workdir/radish/PET-CT/data_gen/3D_LABELED_CT_PET_V2/1.2.840.113619.2.55.3.663376.632.1715218388.684\n",
      "/workdir/radish/PET-CT/data_gen/3D_LABELED_CT_PET_V2/1.2.840.113619.2.55.3.663376.632.1715218388.978\n",
      "/workdir/radish/PET-CT/data_gen/3D_LABELED_CT_PET_V2/1.2.840.113619.2.55.3.663376.632.1715218389.554\n",
      "/workdir/radish/PET-CT/data_gen/3D_LABELED_CT_PET_V2/1.2.840.113619.2.55.3.663376.632.1715218389.836\n",
      "/workdir/radish/PET-CT/data_gen/3D_LABELED_CT_PET_V2/1.2.840.113619.2.55.3.663376.964.1714721570.325\n",
      "/workdir/radish/PET-CT/data_gen/3D_LABELED_CT_PET_V2/1.2.840.113619.2.55.3.663376.964.1714721570.579\n",
      "/workdir/radish/PET-CT/data_gen/3D_LABELED_CT_PET_V2/1.2.840.113619.2.55.3.663376.964.1714721570.71\n",
      "/workdir/radish/PET-CT/data_gen/3D_LABELED_CT_PET_V2/1.2.840.113619.2.55.3.663376.964.1714721571.180\n",
      "/workdir/radish/PET-CT/data_gen/3D_LABELED_CT_PET_V2/1.2.840.113619.2.55.3.663376.964.1714721571.716\n",
      "/workdir/radish/PET-CT/data_gen/3D_LABELED_CT_PET_V2/1.2.840.113619.2.55.3.663376.964.1714721571.998\n",
      "/workdir/radish/PET-CT/data_gen/3D_LABELED_CT_PET_V2/1.2.840.113619.2.55.3.663376.964.1714721572.575\n",
      "/workdir/radish/PET-CT/data_gen/3D_LABELED_CT_PET_V2/1.2.840.113619.2.55.3.663376.964.1714721572.857\n",
      "/workdir/radish/PET-CT/data_gen/3D_LABELED_CT_PET_V2/1.2.840.113619.2.55.3.663376.964.1714721573.101\n",
      "/workdir/radish/PET-CT/data_gen/3D_LABELED_CT_PET_V2/1.2.840.113619.2.55.3.663376.964.1714721573.552\n"
     ]
    }
   ],
   "source": [
    "import os \n",
    "parent_dir = '/workdir/radish/PET-CT/data_gen/3D_LABELED_CT_PET_V2'\n",
    "txt_list_patients = '3d_dacthai/metric.txt'\n",
    "with open(txt_list_patients, 'w') as f:\n",
    "    for patient in os.listdir(parent_dir):\n",
    "        patient_path = os.path.join(parent_dir, patient)\n",
    "        print(patient_path)\n",
    "        # write to file\n",
    "        f.write(patient_path + '\\n')\n"
   ]
  },
  {
   "cell_type": "code",
   "execution_count": null,
   "metadata": {},
   "outputs": [],
   "source": []
  }
 ],
 "metadata": {
  "kernelspec": {
   "display_name": "BBDM",
   "language": "python",
   "name": "python3"
  },
  "language_info": {
   "codemirror_mode": {
    "name": "ipython",
    "version": 3
   },
   "file_extension": ".py",
   "mimetype": "text/x-python",
   "name": "python",
   "nbconvert_exporter": "python",
   "pygments_lexer": "ipython3",
   "version": "3.9.16"
  }
 },
 "nbformat": 4,
 "nbformat_minor": 2
}
